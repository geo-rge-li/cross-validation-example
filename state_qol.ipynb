{
 "cells": [
  {
   "cell_type": "code",
   "id": "initial_id",
   "metadata": {
    "collapsed": true,
    "ExecuteTime": {
     "end_time": "2024-06-10T00:16:24.154816Z",
     "start_time": "2024-06-10T00:16:12.137184Z"
    }
   },
   "source": [
    "from sklearn.linear_model import LinearRegression, Lasso\n",
    "from sklearn.preprocessing import StandardScaler, PolynomialFeatures\n",
    "from sklearn.pipeline import Pipeline\n",
    "from sklearn.feature_selection import SequentialFeatureSelector, SelectFromModel\n",
    "from sklearn.metrics import mean_squared_error\n",
    "from sklearn.model_selection import train_test_split, GridSearchCV\n",
    "from sklearn import set_config\n",
    "set_config(display=\"diagram\")\n",
    "\n",
    "\n",
    "import pandas as pd\n",
    "import numpy as np\n",
    "import seaborn as sns\n",
    "import plotly.express as px"
   ],
   "outputs": [
    {
     "name": "stderr",
     "output_type": "stream",
     "text": [
      "Matplotlib is building the font cache; this may take a moment.\n"
     ]
    }
   ],
   "execution_count": 2
  },
  {
   "metadata": {
    "ExecuteTime": {
     "end_time": "2024-06-10T00:16:24.176868Z",
     "start_time": "2024-06-10T00:16:24.156111Z"
    }
   },
   "cell_type": "code",
   "source": [
    "# Load the data\n",
    "states = pd.read_csv(\"data/qol_states_2024.csv\")\n",
    "states.head()"
   ],
   "id": "d2b24255586b60af",
   "outputs": [
    {
     "data": {
      "text/plain": [
       "        state  QualityOfLifeTotalScore  QualityOfLifeQualityOfLife  \\\n",
       "0     Alabama                    45.61                          40   \n",
       "1      Alaska                    40.93                          50   \n",
       "2     Arizona                    48.31                          21   \n",
       "3    Arkansas                    42.42                          46   \n",
       "4  California                    52.03                           2   \n",
       "\n",
       "   QualityOfLifeAffordability  QualityOfLifeEconomy  \\\n",
       "0                           1                    40   \n",
       "1                          42                    22   \n",
       "2                          25                    14   \n",
       "3                           4                    34   \n",
       "4                          50                    15   \n",
       "\n",
       "   QualityOfLifeEducationAndHealth  QualityOfLifeSafety  \n",
       "0                               48                   32  \n",
       "1                               30                   45  \n",
       "2                               39                   40  \n",
       "3                               45                   47  \n",
       "4                               24                   27  "
      ],
      "text/html": [
       "<div>\n",
       "<style scoped>\n",
       "    .dataframe tbody tr th:only-of-type {\n",
       "        vertical-align: middle;\n",
       "    }\n",
       "\n",
       "    .dataframe tbody tr th {\n",
       "        vertical-align: top;\n",
       "    }\n",
       "\n",
       "    .dataframe thead th {\n",
       "        text-align: right;\n",
       "    }\n",
       "</style>\n",
       "<table border=\"1\" class=\"dataframe\">\n",
       "  <thead>\n",
       "    <tr style=\"text-align: right;\">\n",
       "      <th></th>\n",
       "      <th>state</th>\n",
       "      <th>QualityOfLifeTotalScore</th>\n",
       "      <th>QualityOfLifeQualityOfLife</th>\n",
       "      <th>QualityOfLifeAffordability</th>\n",
       "      <th>QualityOfLifeEconomy</th>\n",
       "      <th>QualityOfLifeEducationAndHealth</th>\n",
       "      <th>QualityOfLifeSafety</th>\n",
       "    </tr>\n",
       "  </thead>\n",
       "  <tbody>\n",
       "    <tr>\n",
       "      <th>0</th>\n",
       "      <td>Alabama</td>\n",
       "      <td>45.61</td>\n",
       "      <td>40</td>\n",
       "      <td>1</td>\n",
       "      <td>40</td>\n",
       "      <td>48</td>\n",
       "      <td>32</td>\n",
       "    </tr>\n",
       "    <tr>\n",
       "      <th>1</th>\n",
       "      <td>Alaska</td>\n",
       "      <td>40.93</td>\n",
       "      <td>50</td>\n",
       "      <td>42</td>\n",
       "      <td>22</td>\n",
       "      <td>30</td>\n",
       "      <td>45</td>\n",
       "    </tr>\n",
       "    <tr>\n",
       "      <th>2</th>\n",
       "      <td>Arizona</td>\n",
       "      <td>48.31</td>\n",
       "      <td>21</td>\n",
       "      <td>25</td>\n",
       "      <td>14</td>\n",
       "      <td>39</td>\n",
       "      <td>40</td>\n",
       "    </tr>\n",
       "    <tr>\n",
       "      <th>3</th>\n",
       "      <td>Arkansas</td>\n",
       "      <td>42.42</td>\n",
       "      <td>46</td>\n",
       "      <td>4</td>\n",
       "      <td>34</td>\n",
       "      <td>45</td>\n",
       "      <td>47</td>\n",
       "    </tr>\n",
       "    <tr>\n",
       "      <th>4</th>\n",
       "      <td>California</td>\n",
       "      <td>52.03</td>\n",
       "      <td>2</td>\n",
       "      <td>50</td>\n",
       "      <td>15</td>\n",
       "      <td>24</td>\n",
       "      <td>27</td>\n",
       "    </tr>\n",
       "  </tbody>\n",
       "</table>\n",
       "</div>"
      ]
     },
     "execution_count": 3,
     "metadata": {},
     "output_type": "execute_result"
    }
   ],
   "execution_count": 3
  },
  {
   "metadata": {
    "ExecuteTime": {
     "end_time": "2024-06-10T00:20:16.390951Z",
     "start_time": "2024-06-10T00:20:16.374395Z"
    }
   },
   "cell_type": "code",
   "source": [
    "# simple cross validation\n",
    "simple_X = states.drop(columns=['state', 'QualityOfLifeTotalScore'], axis = 1)\n",
    "simple_y = states['QualityOfLifeTotalScore']\n",
    "simple_X_train, simple_X_test, simple_y_train, simple_y_test = train_test_split(simple_X, simple_y, test_size=0.3, random_state=42)\n"
   ],
   "id": "3ff46a4d32927840",
   "outputs": [],
   "execution_count": 4
  },
  {
   "metadata": {
    "ExecuteTime": {
     "end_time": "2024-06-10T01:40:11.057629Z",
     "start_time": "2024-06-10T01:40:10.733202Z"
    }
   },
   "cell_type": "code",
   "source": [
    "from sklearn.linear_model import Ridge\n",
    "\n",
    "# ridge model with standardization\n",
    "ridge_param_dict = {'ridge__alpha': np.logspace(0, 10, 50)}\n",
    "ridge_pipe = Pipeline([('scaler', StandardScaler()), \n",
    "                      ('ridge', Ridge())])\n",
    "ridge_grid = GridSearchCV(ridge_pipe, param_grid=ridge_param_dict)\n",
    "ridge_grid.fit(simple_X_train, simple_y_train)\n",
    "ridge_train_preds = ridge_grid.predict(simple_X_train)\n",
    "ridge_test_preds = ridge_grid.predict(simple_X_test)\n",
    "ridge_train_mse = mean_squared_error(simple_y_train, ridge_train_preds)\n",
    "ridge_test_mse = mean_squared_error(simple_y_test, ridge_test_preds)\n",
    "\n",
    "best_ridge_coefs = ridge_grid.best_estimator_.named_steps['ridge'].coef_\n",
    "feature_names = ridge_grid.best_estimator_.named_steps['scaler'].get_feature_names_out()\n",
    "ridge_df = pd.DataFrame({'feature': feature_names, 'coef': best_ridge_coefs})\n",
    "\n",
    "print(f\"Ridge simple cross validation Train MSE: {ridge_train_mse}\")\n",
    "print(f\"Ridge simple cross validation Test MSE: {ridge_test_mse}\")\n",
    "print(f\"Best Ridge Alpha: {ridge_grid.best_params_}\")\n",
    "ridge_df"
   ],
   "id": "6d947d14fa4d450e",
   "outputs": [
    {
     "name": "stdout",
     "output_type": "stream",
     "text": [
      "Ridge simple cross validation Train MSE: 1.3942594497108203\n",
      "Ridge simple cross validation Test MSE: 0.5383255811786083\n",
      "Best Ridge Alpha: {'ridge__alpha': 1.0}\n"
     ]
    },
    {
     "data": {
      "text/plain": [
       "                           feature      coef\n",
       "0       QualityOfLifeQualityOfLife -1.895126\n",
       "1       QualityOfLifeAffordability -1.821392\n",
       "2             QualityOfLifeEconomy -1.791605\n",
       "3  QualityOfLifeEducationAndHealth -2.783066\n",
       "4              QualityOfLifeSafety -3.151602"
      ],
      "text/html": [
       "<div>\n",
       "<style scoped>\n",
       "    .dataframe tbody tr th:only-of-type {\n",
       "        vertical-align: middle;\n",
       "    }\n",
       "\n",
       "    .dataframe tbody tr th {\n",
       "        vertical-align: top;\n",
       "    }\n",
       "\n",
       "    .dataframe thead th {\n",
       "        text-align: right;\n",
       "    }\n",
       "</style>\n",
       "<table border=\"1\" class=\"dataframe\">\n",
       "  <thead>\n",
       "    <tr style=\"text-align: right;\">\n",
       "      <th></th>\n",
       "      <th>feature</th>\n",
       "      <th>coef</th>\n",
       "    </tr>\n",
       "  </thead>\n",
       "  <tbody>\n",
       "    <tr>\n",
       "      <th>0</th>\n",
       "      <td>QualityOfLifeQualityOfLife</td>\n",
       "      <td>-1.895126</td>\n",
       "    </tr>\n",
       "    <tr>\n",
       "      <th>1</th>\n",
       "      <td>QualityOfLifeAffordability</td>\n",
       "      <td>-1.821392</td>\n",
       "    </tr>\n",
       "    <tr>\n",
       "      <th>2</th>\n",
       "      <td>QualityOfLifeEconomy</td>\n",
       "      <td>-1.791605</td>\n",
       "    </tr>\n",
       "    <tr>\n",
       "      <th>3</th>\n",
       "      <td>QualityOfLifeEducationAndHealth</td>\n",
       "      <td>-2.783066</td>\n",
       "    </tr>\n",
       "    <tr>\n",
       "      <th>4</th>\n",
       "      <td>QualityOfLifeSafety</td>\n",
       "      <td>-3.151602</td>\n",
       "    </tr>\n",
       "  </tbody>\n",
       "</table>\n",
       "</div>"
      ]
     },
     "execution_count": 24,
     "metadata": {},
     "output_type": "execute_result"
    }
   ],
   "execution_count": 24
  },
  {
   "metadata": {},
   "cell_type": "code",
   "outputs": [],
   "execution_count": null,
   "source": "# k-fold cross validation\n",
   "id": "64be24fa47725305"
  }
 ],
 "metadata": {
  "kernelspec": {
   "display_name": "Python 3",
   "language": "python",
   "name": "python3"
  },
  "language_info": {
   "codemirror_mode": {
    "name": "ipython",
    "version": 2
   },
   "file_extension": ".py",
   "mimetype": "text/x-python",
   "name": "python",
   "nbconvert_exporter": "python",
   "pygments_lexer": "ipython2",
   "version": "2.7.6"
  }
 },
 "nbformat": 4,
 "nbformat_minor": 5
}
